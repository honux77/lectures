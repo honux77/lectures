{
 "cells": [
  {
   "cell_type": "code",
   "execution_count": 15,
   "metadata": {},
   "outputs": [
    {
     "name": "stdout",
     "output_type": "stream",
     "text": [
      "1 김현미\n",
      "2 김상조\n",
      "3 김연자\n",
      "4 송대관\n",
      "5 김부겸\n",
      "6 도종환\n",
      "7 단오\n",
      "8 삼성 드림클래스\n",
      "9 서하준\n",
      "10 예정화\n",
      "11 김영춘\n",
      "12 한국 포르투갈\n",
      "13 엽기적인 그녀\n",
      "14 김현미의원\n",
      "15 홍상기\n",
      "16 알토란 감자간장조림\n",
      "17 비밀의숲\n",
      "18 태항호\n",
      "19 군함도\n",
      "20 이름없는여자\n"
     ]
    }
   ],
   "source": [
    "import requests\n",
    "from bs4 import BeautifulSoup\n",
    "result = requests.get('http://www.naver.com')\n",
    "bs = BeautifulSoup(result.text, 'html.parser')\n",
    "\n",
    "elements = bs.select('div.PM_CL_realtimeKeyword_rolling ul li a.ah_a')\n",
    "for elem in elements:\n",
    "    rank = elem.select_one('span.ah_r').text\n",
    "    word = elem.select_one('span.ah_k').text\n",
    "    print(rank, word)"
   ]
  }
 ],
 "metadata": {
  "kernelspec": {
   "display_name": "Python 3",
   "language": "python",
   "name": "python3"
  },
  "language_info": {
   "codemirror_mode": {
    "name": "ipython",
    "version": 3
   },
   "file_extension": ".py",
   "mimetype": "text/x-python",
   "name": "python",
   "nbconvert_exporter": "python",
   "pygments_lexer": "ipython3",
   "version": "3.5.2"
  }
 },
 "nbformat": 4,
 "nbformat_minor": 2
}
