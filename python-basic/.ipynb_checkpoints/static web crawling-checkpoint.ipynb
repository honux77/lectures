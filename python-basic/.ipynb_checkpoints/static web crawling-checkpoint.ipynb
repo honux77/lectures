{
 "cells": [
  {
   "cell_type": "markdown",
   "metadata": {},
   "source": [
    "# 웹 크롤링"
   ]
  },
  {
   "cell_type": "code",
   "execution_count": 41,
   "metadata": {
    "collapsed": true
   },
   "outputs": [],
   "source": [
    "import requests"
   ]
  },
  {
   "cell_type": "code",
   "execution_count": 42,
   "metadata": {},
   "outputs": [
    {
     "data": {
      "text/plain": [
       "<Response [200]>"
      ]
     },
     "execution_count": 42,
     "metadata": {},
     "output_type": "execute_result"
    }
   ],
   "source": [
    "result = requests.get('http://www.naver.com')\n",
    "result"
   ]
  },
  {
   "cell_type": "code",
   "execution_count": 43,
   "metadata": {},
   "outputs": [
    {
     "data": {
      "text/plain": [
       "True"
      ]
     },
     "execution_count": 43,
     "metadata": {},
     "output_type": "execute_result"
    }
   ],
   "source": [
    "'주진형' in result.text"
   ]
  },
  {
   "cell_type": "code",
   "execution_count": 44,
   "metadata": {
    "collapsed": true
   },
   "outputs": [],
   "source": [
    "from bs4 import BeautifulSoup\n",
    "bs = BeautifulSoup(result.text, 'html.parser')"
   ]
  },
  {
   "cell_type": "code",
   "execution_count": 45,
   "metadata": {},
   "outputs": [],
   "source": [
    "elements = bs.select('div.section_navbar div.PM_CL_realtimeKeyword_rolling a')"
   ]
  },
  {
   "cell_type": "code",
   "execution_count": 46,
   "metadata": {},
   "outputs": [
    {
     "name": "stdout",
     "output_type": "stream",
     "text": [
      "1 엽기적인 그녀\n"
     ]
    }
   ],
   "source": [
    "rank = elements[0].select_one('span.ah_r').text\n",
    "text = elements[0].select_one('span.ah_k').text\n",
    "print(rank, text)"
   ]
  },
  {
   "cell_type": "code",
   "execution_count": 48,
   "metadata": {},
   "outputs": [
    {
     "name": "stdout",
     "output_type": "stream",
     "text": [
      "1 엽기적인 그녀\n",
      "2 주진형\n",
      "3 김연경\n",
      "4 미세먼지\n",
      "5 월화드라마\n",
      "6 섬총사\n",
      "7 오현경\n",
      "8 써클\n",
      "9 오늘의운세\n",
      "10 큐넷\n",
      "11 태항호\n",
      "12 김연경 연봉\n",
      "13 쌈마이웨이\n",
      "14 단오\n",
      "15 파수꾼\n",
      "16 기상청\n",
      "17 130만 유로\n",
      "18 수요미식회 감자탕\n",
      "19 서훈\n",
      "20 엽기적인 그녀 시청률\n"
     ]
    }
   ],
   "source": [
    "for elem in elements:\n",
    "    rank = elem.select_one('span.ah_r').text\n",
    "    text = elem.select_one('span.ah_k').text\n",
    "    print(rank, text)"
   ]
  }
 ],
 "metadata": {
  "kernelspec": {
   "display_name": "Python 3",
   "language": "python",
   "name": "python3"
  },
  "language_info": {
   "codemirror_mode": {
    "name": "ipython",
    "version": 3
   },
   "file_extension": ".py",
   "mimetype": "text/x-python",
   "name": "python",
   "nbconvert_exporter": "python",
   "pygments_lexer": "ipython3",
   "version": "3.5.2"
  }
 },
 "nbformat": 4,
 "nbformat_minor": 2
}
