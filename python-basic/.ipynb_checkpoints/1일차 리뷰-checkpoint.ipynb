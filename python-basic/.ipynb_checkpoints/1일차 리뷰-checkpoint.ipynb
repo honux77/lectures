{
 "cells": [
  {
   "cell_type": "markdown",
   "metadata": {},
   "source": [
    "# 변수, 타입"
   ]
  },
  {
   "cell_type": "code",
   "execution_count": 16,
   "metadata": {},
   "outputs": [
    {
     "data": {
      "text/plain": [
       "1"
      ]
     },
     "execution_count": 16,
     "metadata": {},
     "output_type": "execute_result"
    }
   ],
   "source": [
    "b = 11\n",
    "# a = (b > 10) ? 1 : 0\n",
    "a = 1 if b > 10 else 0\n",
    "a"
   ]
  },
  {
   "cell_type": "code",
   "execution_count": 17,
   "metadata": {},
   "outputs": [
    {
     "data": {
      "text/plain": [
       "int"
      ]
     },
     "execution_count": 17,
     "metadata": {},
     "output_type": "execute_result"
    }
   ],
   "source": [
    "a = 10\n",
    "type(a)"
   ]
  },
  {
   "cell_type": "code",
   "execution_count": 18,
   "metadata": {},
   "outputs": [
    {
     "name": "stdout",
     "output_type": "stream",
     "text": [
      "0\n",
      "1\n",
      "2\n",
      "3\n",
      "4\n",
      "5\n",
      "6\n",
      "7\n",
      "8\n",
      "9\n",
      "--------------------\n",
      "5\n",
      "6\n",
      "7\n",
      "8\n",
      "9\n"
     ]
    }
   ],
   "source": [
    "for i in range(10):\n",
    "    print(i)\n",
    "\n",
    "print(\"--------------------\")\n",
    "for i in range(10):\n",
    "    if i < 5:\n",
    "        continue\n",
    "    print(i)\n",
    "    if i >8:\n",
    "        break"
   ]
  },
  {
   "cell_type": "code",
   "execution_count": 19,
   "metadata": {},
   "outputs": [
    {
     "name": "stdout",
     "output_type": "stream",
     "text": [
      "[1, 2, 3, 4] [0, 1, 2, 3, 4, 5, 6, 7, 8, 9]\n",
      "[1, 2, 3, 4, 0, 1, 2, 3, 4, 5, 6, 7, 8, 9]\n"
     ]
    }
   ],
   "source": [
    "a = [1, 2, 3, 4, ]\n",
    "b = list(range(10))\n",
    "print(a, b)\n",
    "c = a + b\n",
    "print(c)"
   ]
  },
  {
   "cell_type": "code",
   "execution_count": 20,
   "metadata": {
    "collapsed": true
   },
   "outputs": [],
   "source": [
    " d = {} \n",
    "d['key1'] = 'value1'\n",
    "t1 = (1,2,3,4)\n"
   ]
  },
  {
   "cell_type": "code",
   "execution_count": 21,
   "metadata": {},
   "outputs": [
    {
     "name": "stdout",
     "output_type": "stream",
     "text": [
      "Snoopy:1 Linus:2 2\n"
     ]
    }
   ],
   "source": [
    "class User:\n",
    "    language = \"euc-kr\" #class variable\n",
    "    total_num = 0\n",
    "    def __init__(self, name, id):\n",
    "        self.id = id\n",
    "        self.name = name\n",
    "        User.total_num += 1\n",
    "    def __str__(self):\n",
    "        return \"{}:{}\".format(self.id, self.name)\n",
    "\n",
    "u1 = User(1, 'Snoopy')\n",
    "u2 = User(2, 'Linus')\n",
    "print(u1, u2, User.total_num)"
   ]
  },
  {
   "cell_type": "code",
   "execution_count": 22,
   "metadata": {},
   "outputs": [
    {
     "name": "stdout",
     "output_type": "stream",
     "text": [
      "hello\n",
      "this is Sample Text\n",
      "\n",
      "\n",
      "Good day\n",
      "\n",
      "안녕하세요. \n",
      "\n",
      "추가추가\n",
      "line 0\n",
      "line 1\n",
      "line 2\n",
      "line 3\n",
      "line 4\n",
      "line 5\n",
      "line 6\n",
      "line 7\n",
      "line 8\n",
      "line 9\n"
     ]
    }
   ],
   "source": [
    "with open('sample.txt', 'r') as fp:\n",
    "    lines = fp.readlines()\n",
    "\n",
    "for line in lines:\n",
    "    print(line, end='')\n"
   ]
  },
  {
   "cell_type": "code",
   "execution_count": 23,
   "metadata": {
    "collapsed": true
   },
   "outputs": [],
   "source": [
    "with open('sample.txt', 'a') as fp:\n",
    "    fp.write(\"추가추가\\n\")\n",
    "    for i in range(10):\n",
    "        fp.write(\"line {}\\n\".format(i))\n"
   ]
  },
  {
   "cell_type": "code",
   "execution_count": 25,
   "metadata": {},
   "outputs": [
    {
     "name": "stdout",
     "output_type": "stream",
     "text": [
      "[<__main__.User object at 0x10484ab00>, <__main__.User object at 0x10484a208>]\n"
     ]
    }
   ],
   "source": [
    "import pickle\n",
    "mylist = [u1, u2]\n",
    "print(mylist)\n",
    "with open('user.dat', 'wb') as fp:\n",
    "    pickle.dump(mylist, fp)"
   ]
  },
  {
   "cell_type": "code",
   "execution_count": 26,
   "metadata": {},
   "outputs": [
    {
     "name": "stdout",
     "output_type": "stream",
     "text": [
      "[<__main__.User object at 0x1047ddcf8>, <__main__.User object at 0x1047dd860>] Snoopy:1 Linus:2\n"
     ]
    }
   ],
   "source": [
    "import pickle\n",
    "with open('user.dat', 'rb') as fp:\n",
    "    some = pickle.load(fp)\n",
    "print(some, some[0], some[1])"
   ]
  },
  {
   "cell_type": "markdown",
   "metadata": {},
   "source": [
    "# lambda"
   ]
  },
  {
   "cell_type": "code",
   "execution_count": 28,
   "metadata": {},
   "outputs": [
    {
     "name": "stdout",
     "output_type": "stream",
     "text": [
      "3\n"
     ]
    }
   ],
   "source": [
    "z = (lambda x, y: x + y)(1, 2)\n",
    "print(z)"
   ]
  },
  {
   "cell_type": "code",
   "execution_count": 30,
   "metadata": {},
   "outputs": [
    {
     "name": "stdout",
     "output_type": "stream",
     "text": [
      "[1, 4, 9, 16, 25]\n"
     ]
    }
   ],
   "source": [
    "a = [1, 2, 3, 4, 5]\n",
    "def process(x):\n",
    "    return x * x\n",
    "b = list(map(process, a))\n",
    "print(b)"
   ]
  },
  {
   "cell_type": "code",
   "execution_count": 31,
   "metadata": {},
   "outputs": [
    {
     "name": "stdout",
     "output_type": "stream",
     "text": [
      "[0, 1, 4, 9, 16, 25, 36, 49, 64, 81]\n"
     ]
    }
   ],
   "source": [
    "a = list(range(10))\n",
    "b = list(map(lambda x: x * x, a))\n",
    "print(b)"
   ]
  },
  {
   "cell_type": "code",
   "execution_count": 35,
   "metadata": {},
   "outputs": [
    {
     "name": "stdout",
     "output_type": "stream",
     "text": [
      "abcde\n",
      "edcba\n"
     ]
    }
   ],
   "source": [
    "from functools import reduce \n",
    "b = reduce(lambda x, y: x + y, a)\n",
    "print(b)\n",
    "\n",
    "a= \"abcde\"\n",
    "b = reduce(lambda x, y: y + x, a)\n",
    "print(b)"
   ]
  },
  {
   "cell_type": "code",
   "execution_count": 42,
   "metadata": {},
   "outputs": [
    {
     "name": "stdout",
     "output_type": "stream",
     "text": [
      "HWZX 4\n"
     ]
    }
   ],
   "source": [
    "a = list(range(1,21))\n",
    "b = list(filter(lambda x: x % 2 == 0, a))\n",
    "c = \"HelloWorldZXbb\"\n",
    "d = \"\".join(list(filter(lambda x: \"A\" <= x <= \"Z\", c)))\n",
    "print(d, len(d))"
   ]
  }
 ],
 "metadata": {
  "kernelspec": {
   "display_name": "Python 3",
   "language": "python",
   "name": "python3"
  },
  "language_info": {
   "codemirror_mode": {
    "name": "ipython",
    "version": 3
   },
   "file_extension": ".py",
   "mimetype": "text/x-python",
   "name": "python",
   "nbconvert_exporter": "python",
   "pygments_lexer": "ipython3",
   "version": "3.5.2"
  }
 },
 "nbformat": 4,
 "nbformat_minor": 2
}
